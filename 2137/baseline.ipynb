{
  "nbformat": 4,
  "nbformat_minor": 0,
  "metadata": {
    "colab": {
      "provenance": []
    },
    "kernelspec": {
      "name": "python3",
      "display_name": "Python 3"
    },
    "language_info": {
      "name": "python"
    },
    "accelerator": "GPU"
  },
  "cells": [
    {
      "cell_type": "markdown",
      "source": [
        "#데이터셋 \n",
        "\n",
        "데이터셋은 아래 구글 드라이브에서 다운로드 받을 수 있습니다.\n",
        "\n",
        "https://drive.google.com/drive/folders/1ZOYpTUa82_jCcxIdTmyr0LXQfvaM9vIy\n",
        "\n",
        "위 폴더에 포함된 데이터는 아래와 같습니다.\n",
        "\n",
        "* exchange_rate\n",
        "* electricity\n",
        "* weather\n",
        "* traffic\n",
        "* illness\n",
        "* ETT-small"
      ],
      "metadata": {
        "id": "_v9b9yoy5ARh"
      }
    },
    {
      "cell_type": "markdown",
      "source": [
        "# 베이스라인 코드 실행"
      ],
      "metadata": {
        "id": "EYgsgWWJ59_8"
      }
    },
    {
      "cell_type": "markdown",
      "source": [
        "## 코드 다운로드"
      ],
      "metadata": {
        "id": "p6SLOJHh6IK_"
      }
    },
    {
      "cell_type": "code",
      "source": [
        "!git clone https://github.com/cure-lab/LTSF-Linear.git"
      ],
      "metadata": {
        "colab": {
          "base_uri": "https://localhost:8080/"
        },
        "id": "pSfH9Pl_2dAv",
        "outputId": "dc82d6b0-295a-40d0-9dcd-5ebae75f31c6"
      },
      "execution_count": 1,
      "outputs": [
        {
          "output_type": "stream",
          "name": "stdout",
          "text": [
            "Cloning into 'LTSF-Linear'...\n",
            "remote: Enumerating objects: 288, done.\u001b[K\n",
            "remote: Counting objects: 100% (64/64), done.\u001b[K\n",
            "remote: Compressing objects: 100% (24/24), done.\u001b[K\n",
            "remote: Total 288 (delta 45), reused 40 (delta 40), pack-reused 224\u001b[K\n",
            "Receiving objects: 100% (288/288), 5.79 MiB | 25.44 MiB/s, done.\n",
            "Resolving deltas: 100% (134/134), done.\n"
          ]
        }
      ]
    },
    {
      "cell_type": "markdown",
      "source": [
        "## 데이터셋 다운로드 및 실행 스크립트 다운로드"
      ],
      "metadata": {
        "id": "OawBY7Gm6LXb"
      }
    },
    {
      "cell_type": "code",
      "source": [
        "!mkdir /content/LTSF-Linear/dataset"
      ],
      "metadata": {
        "id": "W9LucRkI3PAV"
      },
      "execution_count": 2,
      "outputs": []
    },
    {
      "cell_type": "code",
      "source": [
        "!wget https://raw.githubusercontent.com/aifactory-team/AFLearning/master/2137/ETTh1.csv -O /content/LTSF-Linear/dataset/ETTh1.csv"
      ],
      "metadata": {
        "colab": {
          "base_uri": "https://localhost:8080/"
        },
        "id": "an_YHCYq2qnn",
        "outputId": "41377b5f-d3b6-4a9b-fae3-73d447682679"
      },
      "execution_count": 3,
      "outputs": [
        {
          "output_type": "stream",
          "name": "stdout",
          "text": [
            "--2022-09-23 10:40:44--  https://raw.githubusercontent.com/aifactory-team/AFLearning/master/2137/ETTh1.csv\n",
            "Resolving raw.githubusercontent.com (raw.githubusercontent.com)... 185.199.108.133, 185.199.109.133, 185.199.111.133, ...\n",
            "Connecting to raw.githubusercontent.com (raw.githubusercontent.com)|185.199.108.133|:443... connected.\n",
            "HTTP request sent, awaiting response... 200 OK\n",
            "Length: 2589657 (2.5M) [text/plain]\n",
            "Saving to: ‘/content/LTSF-Linear/dataset/ETTh1.csv’\n",
            "\n",
            "/content/LTSF-Linea 100%[===================>]   2.47M  --.-KB/s    in 0.08s   \n",
            "\n",
            "2022-09-23 10:40:44 (30.6 MB/s) - ‘/content/LTSF-Linear/dataset/ETTh1.csv’ saved [2589657/2589657]\n",
            "\n"
          ]
        }
      ]
    },
    {
      "cell_type": "code",
      "execution_count": 4,
      "metadata": {
        "colab": {
          "base_uri": "https://localhost:8080/"
        },
        "id": "oAUfpJER2Q_2",
        "outputId": "38c14079-fbe6-4431-a714-9722e75b7182"
      },
      "outputs": [
        {
          "output_type": "stream",
          "name": "stdout",
          "text": [
            "--2022-09-23 10:40:44--  https://raw.githubusercontent.com/aifactory-team/AFLearning/master/2137/etth1_af.sh\n",
            "Resolving raw.githubusercontent.com (raw.githubusercontent.com)... 185.199.108.133, 185.199.109.133, 185.199.110.133, ...\n",
            "Connecting to raw.githubusercontent.com (raw.githubusercontent.com)|185.199.108.133|:443... connected.\n",
            "HTTP request sent, awaiting response... 200 OK\n",
            "Length: 567 [text/plain]\n",
            "Saving to: ‘/content/LTSF-Linear/etth1_af.sh’\n",
            "\n",
            "/content/LTSF-Linea 100%[===================>]     567  --.-KB/s    in 0s      \n",
            "\n",
            "2022-09-23 10:40:44 (27.5 MB/s) - ‘/content/LTSF-Linear/etth1_af.sh’ saved [567/567]\n",
            "\n"
          ]
        }
      ],
      "source": [
        "!wget https://raw.githubusercontent.com/aifactory-team/AFLearning/master/2137/etth1_af.sh -O /content/LTSF-Linear/etth1_af.sh"
      ]
    },
    {
      "cell_type": "markdown",
      "source": [
        "## 베이스라인 스크립트 실행"
      ],
      "metadata": {
        "id": "EWzUqMOl6Ewh"
      }
    },
    {
      "cell_type": "code",
      "source": [
        "%cd LTSF-Linear"
      ],
      "metadata": {
        "colab": {
          "base_uri": "https://localhost:8080/"
        },
        "id": "Q6Z0IReH3oql",
        "outputId": "f2a9b2ad-7874-420c-ccd7-7f8119945227"
      },
      "execution_count": 5,
      "outputs": [
        {
          "output_type": "stream",
          "name": "stdout",
          "text": [
            "/content/LTSF-Linear\n"
          ]
        }
      ]
    },
    {
      "cell_type": "code",
      "source": [
        "!sh /content/LTSF-Linear/etth1_af.sh"
      ],
      "metadata": {
        "id": "Iezq-VY93DQg"
      },
      "execution_count": 6,
      "outputs": []
    },
    {
      "cell_type": "markdown",
      "source": [
        "## 모델 결과 제출\n",
        "\n",
        "아래 명령을 통해 모델 결과 파일을 다운로드 받습니다.\n"
      ],
      "metadata": {
        "id": "eOjJ5ZUR6SqJ"
      }
    },
    {
      "cell_type": "code",
      "source": [
        "from google.colab import files\n",
        "\n",
        "files.download('/content/LTSF-Linear/results/ETTh1_336_720_DLinear_ETTh1_ftM_sl336_ll48_pl720_dm512_nh8_el2_dl1_df2048_fc1_ebtimeF_dtTrue_Exp_0/pred.npy') "
      ],
      "metadata": {
        "id": "1X7CM1I_8WZq",
        "outputId": "df0b616f-22be-4af7-aafd-37e596d8a00e",
        "colab": {
          "base_uri": "https://localhost:8080/",
          "height": 17
        }
      },
      "execution_count": 7,
      "outputs": [
        {
          "output_type": "display_data",
          "data": {
            "text/plain": [
              "<IPython.core.display.Javascript object>"
            ],
            "application/javascript": [
              "\n",
              "    async function download(id, filename, size) {\n",
              "      if (!google.colab.kernel.accessAllowed) {\n",
              "        return;\n",
              "      }\n",
              "      const div = document.createElement('div');\n",
              "      const label = document.createElement('label');\n",
              "      label.textContent = `Downloading \"${filename}\": `;\n",
              "      div.appendChild(label);\n",
              "      const progress = document.createElement('progress');\n",
              "      progress.max = size;\n",
              "      div.appendChild(progress);\n",
              "      document.body.appendChild(div);\n",
              "\n",
              "      const buffers = [];\n",
              "      let downloaded = 0;\n",
              "\n",
              "      const channel = await google.colab.kernel.comms.open(id);\n",
              "      // Send a message to notify the kernel that we're ready.\n",
              "      channel.send({})\n",
              "\n",
              "      for await (const message of channel.messages) {\n",
              "        // Send a message to notify the kernel that we're ready.\n",
              "        channel.send({})\n",
              "        if (message.buffers) {\n",
              "          for (const buffer of message.buffers) {\n",
              "            buffers.push(buffer);\n",
              "            downloaded += buffer.byteLength;\n",
              "            progress.value = downloaded;\n",
              "          }\n",
              "        }\n",
              "      }\n",
              "      const blob = new Blob(buffers, {type: 'application/binary'});\n",
              "      const a = document.createElement('a');\n",
              "      a.href = window.URL.createObjectURL(blob);\n",
              "      a.download = filename;\n",
              "      div.appendChild(a);\n",
              "      a.click();\n",
              "      div.remove();\n",
              "    }\n",
              "  "
            ]
          },
          "metadata": {}
        },
        {
          "output_type": "display_data",
          "data": {
            "text/plain": [
              "<IPython.core.display.Javascript object>"
            ],
            "application/javascript": [
              "download(\"download_15c9b8a0-cb4b-44ed-8bca-fd0fea222b27\", \"pred.npy\", 43223168)"
            ]
          },
          "metadata": {}
        }
      ]
    },
    {
      "cell_type": "markdown",
      "source": [
        "다운로드 받은 pred.npy를 https://aifactory.space/learning/submission/2137 페이지에 접속 후에 제출합니다."
      ],
      "metadata": {
        "id": "niXbPv108lK_"
      }
    }
  ]
}