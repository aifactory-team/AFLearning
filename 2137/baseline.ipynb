{
  "nbformat": 4,
  "nbformat_minor": 0,
  "metadata": {
    "colab": {
      "provenance": []
    },
    "kernelspec": {
      "name": "python3",
      "display_name": "Python 3"
    },
    "language_info": {
      "name": "python"
    },
    "accelerator": "GPU"
  },
  "cells": [
    {
      "cell_type": "code",
      "source": [
        "!git clone https://github.com/cure-lab/LTSF-Linear.git"
      ],
      "metadata": {
        "colab": {
          "base_uri": "https://localhost:8080/"
        },
        "id": "pSfH9Pl_2dAv",
        "outputId": "1231a2ac-4c46-4f90-e5bb-cbb9c12c8b52"
      },
      "execution_count": 1,
      "outputs": [
        {
          "output_type": "stream",
          "name": "stdout",
          "text": [
            "Cloning into 'LTSF-Linear'...\n",
            "remote: Enumerating objects: 288, done.\u001b[K\n",
            "remote: Counting objects: 100% (65/65), done.\u001b[K\n",
            "remote: Compressing objects: 100% (25/25), done.\u001b[K\n",
            "remote: Total 288 (delta 45), reused 40 (delta 40), pack-reused 223\u001b[K\n",
            "Receiving objects: 100% (288/288), 5.79 MiB | 30.87 MiB/s, done.\n",
            "Resolving deltas: 100% (134/134), done.\n"
          ]
        }
      ]
    },
    {
      "cell_type": "code",
      "source": [
        "!mkdir /content/LTSF-Linear/dataset"
      ],
      "metadata": {
        "id": "W9LucRkI3PAV"
      },
      "execution_count": 7,
      "outputs": []
    },
    {
      "cell_type": "code",
      "source": [
        "!wget https://raw.githubusercontent.com/aifactory-team/AFLearning/master/2137/ETTh1.csv -O /content/LTSF-Linear/dataset/ETTh1.csv"
      ],
      "metadata": {
        "colab": {
          "base_uri": "https://localhost:8080/"
        },
        "id": "an_YHCYq2qnn",
        "outputId": "4c642eb5-53c8-4c41-a9f6-241be19a0dfd"
      },
      "execution_count": 10,
      "outputs": [
        {
          "output_type": "stream",
          "name": "stdout",
          "text": [
            "--2022-09-23 10:21:43--  https://raw.githubusercontent.com/aifactory-team/AFLearning/master/2137/ETTh1.csv\n",
            "Resolving raw.githubusercontent.com (raw.githubusercontent.com)... 185.199.108.133, 185.199.109.133, 185.199.110.133, ...\n",
            "Connecting to raw.githubusercontent.com (raw.githubusercontent.com)|185.199.108.133|:443... connected.\n",
            "HTTP request sent, awaiting response... 200 OK\n",
            "Length: 2589657 (2.5M) [text/plain]\n",
            "Saving to: ‘/content/LTSF-Linear/dataset/ETTh1.csv’\n",
            "\n",
            "/content/LTSF-Linea 100%[===================>]   2.47M  --.-KB/s    in 0.05s   \n",
            "\n",
            "2022-09-23 10:21:43 (52.1 MB/s) - ‘/content/LTSF-Linear/dataset/ETTh1.csv’ saved [2589657/2589657]\n",
            "\n"
          ]
        }
      ]
    },
    {
      "cell_type": "code",
      "execution_count": 9,
      "metadata": {
        "colab": {
          "base_uri": "https://localhost:8080/"
        },
        "id": "oAUfpJER2Q_2",
        "outputId": "874600bb-b37a-4110-cb4e-df09f76fb6fc"
      },
      "outputs": [
        {
          "output_type": "stream",
          "name": "stdout",
          "text": [
            "--2022-09-23 10:21:34--  https://raw.githubusercontent.com/aifactory-team/AFLearning/master/2137/etth1_af.sh\n",
            "Resolving raw.githubusercontent.com (raw.githubusercontent.com)... 185.199.108.133, 185.199.109.133, 185.199.110.133, ...\n",
            "Connecting to raw.githubusercontent.com (raw.githubusercontent.com)|185.199.108.133|:443... connected.\n",
            "HTTP request sent, awaiting response... 200 OK\n",
            "Length: 567 [text/plain]\n",
            "Saving to: ‘/content/LTSF-Linear/etth1_af.sh’\n",
            "\n",
            "\r          /content/   0%[                    ]       0  --.-KB/s               \r/content/LTSF-Linea 100%[===================>]     567  --.-KB/s    in 0s      \n",
            "\n",
            "2022-09-23 10:21:34 (38.3 MB/s) - ‘/content/LTSF-Linear/etth1_af.sh’ saved [567/567]\n",
            "\n"
          ]
        }
      ],
      "source": [
        "!wget https://raw.githubusercontent.com/aifactory-team/AFLearning/master/2137/etth1_af.sh -O /content/LTSF-Linear/etth1_af.sh"
      ]
    },
    {
      "cell_type": "code",
      "source": [
        "%cd LTSF-Linear"
      ],
      "metadata": {
        "colab": {
          "base_uri": "https://localhost:8080/"
        },
        "id": "Q6Z0IReH3oql",
        "outputId": "46e143d6-0661-4b2d-b54f-012307a65008"
      },
      "execution_count": 12,
      "outputs": [
        {
          "output_type": "stream",
          "name": "stdout",
          "text": [
            "/content/LTSF-Linear\n"
          ]
        }
      ]
    },
    {
      "cell_type": "code",
      "source": [
        "!sh /content/LTSF-Linear/etth1_af.sh"
      ],
      "metadata": {
        "id": "Iezq-VY93DQg"
      },
      "execution_count": 13,
      "outputs": []
    }
  ]
}